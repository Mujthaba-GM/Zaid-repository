{
  "nbformat": 4,
  "nbformat_minor": 0,
  "metadata": {
    "colab": {
      "provenance": [],
      "authorship_tag": "ABX9TyMZY8PJWfyDkJTt0RyzDhjt",
      "include_colab_link": true
    },
    "kernelspec": {
      "name": "python3",
      "display_name": "Python 3"
    },
    "language_info": {
      "name": "python"
    }
  },
  "cells": [
    {
      "cell_type": "markdown",
      "metadata": {
        "id": "view-in-github",
        "colab_type": "text"
      },
      "source": [
        "<a href=\"https://colab.research.google.com/github/Mujthaba-GM/Zaid-repository/blob/main/Zi.ipynb\" target=\"_parent\"><img src=\"https://colab.research.google.com/assets/colab-badge.svg\" alt=\"Open In Colab\"/></a>"
      ]
    },
    {
      "cell_type": "code",
      "execution_count": null,
      "metadata": {
        "id": "V1EdraPFVZCj"
      },
      "outputs": [],
      "source": []
    },
    {
      "cell_type": "code",
      "source": [],
      "metadata": {
        "id": "ESrihn9vA6jE"
      },
      "execution_count": null,
      "outputs": []
    },
    {
      "cell_type": "code",
      "source": [
        "#Factorial of given number\n",
        "def fact(n, f):\n",
        "    while n != 0:\n",
        "        f = f * n\n",
        "        n -= 1\n",
        "    return f  # return after loop ends\n",
        "\n",
        "n = int(input('Enter n value: '))\n",
        "f = 1\n",
        "fa = fact(n, f)\n",
        "print(\"Factorial of given number:\", fa)\n",
        "\n"
      ],
      "metadata": {
        "colab": {
          "base_uri": "https://localhost:8080/"
        },
        "id": "lKDfn5-kXr4H",
        "outputId": "32444ef7-1113-4bb3-e72a-65bfe5b4a710"
      },
      "execution_count": null,
      "outputs": [
        {
          "output_type": "stream",
          "name": "stdout",
          "text": [
            "Enter n value: 4\n",
            "Factorial of given number: 24\n"
          ]
        }
      ]
    },
    {
      "cell_type": "code",
      "source": [
        "#Sum of n natural numbers\n",
        "\n",
        "def sumnat(n, sum):\n",
        "    while n != 0:\n",
        "        sum=sum+n\n",
        "        n -= 1\n",
        "    return sum  # return after loop ends\n",
        "\n",
        "n = int(input('Enter n value: '))\n",
        "sum = 0\n",
        "sa = sumnat(n, sum)\n",
        "print(\"Factorial of given number:\", sa)\n",
        "\n",
        "\n"
      ],
      "metadata": {
        "colab": {
          "base_uri": "https://localhost:8080/"
        },
        "id": "NNaw3fq-Yj7C",
        "outputId": "2fe6c795-a3bf-4a9a-c306-7e76e9334d5c"
      },
      "execution_count": null,
      "outputs": [
        {
          "output_type": "stream",
          "name": "stdout",
          "text": [
            "Enter n value: 14\n",
            "Factorial of given number: 105\n"
          ]
        }
      ]
    },
    {
      "cell_type": "code",
      "source": [
        "#Multiplication of given numebr\n",
        "def multable(n,i):\n",
        "  while i<=10:\n",
        "    print(i*n)\n",
        "    i+=1\n",
        "\n",
        "n=int(input(\"Enter n value  for u need Multiplication table\"))\n",
        "i=1\n",
        "mul=multable(n,i)"
      ],
      "metadata": {
        "colab": {
          "base_uri": "https://localhost:8080/"
        },
        "id": "M0RFt1jWbcgp",
        "outputId": "a9c2eb57-bdf5-4b07-d506-3218dbef182a"
      },
      "execution_count": null,
      "outputs": [
        {
          "output_type": "stream",
          "name": "stdout",
          "text": [
            "Enter n value  for u need Multiplication table5\n",
            "5\n",
            "10\n",
            "15\n",
            "20\n",
            "25\n",
            "30\n",
            "35\n",
            "40\n",
            "45\n",
            "50\n"
          ]
        }
      ]
    },
    {
      "cell_type": "code",
      "source": [
        "#Fibonacci series\n",
        "def fibonacci(n):\n",
        "    a = 0\n",
        "    b = 1\n",
        "    print(a)\n",
        "    print(b)\n",
        "    c = a + b\n",
        "    while c <= n:\n",
        "        print(c)\n",
        "        a = b\n",
        "        b = c\n",
        "        c = a + b  # Move this inside the loop\n",
        "\n",
        "# Example\n",
        "num = int(input(\"Enter max value: \"))\n",
        "fibonacci(num)\n"
      ],
      "metadata": {
        "colab": {
          "base_uri": "https://localhost:8080/"
        },
        "id": "EP9H4tv1cDv_",
        "outputId": "a0fde979-5e1a-4c52-84e5-4d989b880a9a"
      },
      "execution_count": null,
      "outputs": [
        {
          "output_type": "stream",
          "name": "stdout",
          "text": [
            "Enter max value: 4\n",
            "0\n",
            "1\n",
            "1\n",
            "2\n",
            "3\n"
          ]
        }
      ]
    },
    {
      "cell_type": "code",
      "source": [
        "# List operations\n",
        "list_int = [1, 2, 3, 4, 5]\n",
        "list_float = [1.4, 2.4, 3.5]\n",
        "list_char = ['a', 'b', 'c']\n",
        "list_string = ['apple', \"boy\"]\n",
        "\n",
        "print(\"Integer List:\", list_int)\n",
        "print(\"Float List:\", list_float)\n",
        "print(\"Character List:\", list_char)\n",
        "print(\"String List:\", list_string)\n",
        "\n",
        "# Slicing\n",
        "print(\"Negative slicing (last element):\", list_int[-1])\n",
        "print(\"Integer slicing (0 to -1):\", list_int[0:-1])\n",
        "\n",
        "# Basic list operations\n",
        "print(\"Length of list_int:\", len(list_int))\n",
        "print(\"Sum of list_int:\", sum(list_int))\n",
        "print(\"Maximum in list_int:\", max(list_int))\n",
        "print(\"Minimum in list_int:\", min(list_int))\n",
        "\n",
        "# Add elements\n",
        "list_int.append(6)\n",
        "print(\"After append(6):\", list_int)\n",
        "\n",
        "list_int.insert(2, 10)\n",
        "print(\"After insert(2, 10):\", list_int)\n",
        "\n",
        "# Remove elements\n",
        "list_int.remove(10)\n",
        "print(\"After remove(10):\", list_int)\n",
        "\n",
        "popped = list_int.pop()\n",
        "print(\"After pop():\", list_int, \"| Popped element:\", popped)\n",
        "\n",
        "# Sorting\n",
        "list_int.sort()\n",
        "print(\"Sorted list:\", list_int)\n",
        "\n",
        "# Reversing\n",
        "list_int.reverse()\n",
        "print(\"Reversed list:\", list_int)\n",
        "\n"
      ],
      "metadata": {
        "id": "bE0a7qLjiq0m"
      },
      "execution_count": null,
      "outputs": []
    },
    {
      "cell_type": "code",
      "source": [
        "# Creating tuples\n",
        "numbers = (10, 20, 30, 40, 50)\n",
        "fruits = (\"Apple\", \"Banana\", \"Cherry\")\n",
        "\n",
        "# Printing tuples\n",
        "print(\"Numbers tuple:\", numbers)\n",
        "print(\"Fruits tuple:\", fruits)\n",
        "\n",
        "# Accessing elements\n",
        "print(\"First number:\", numbers[0])\n",
        "print(\"Last number:\", numbers[-1])\n",
        "\n",
        "# Slicing\n",
        "print(\"Some numbers:\", numbers[1:4])\n",
        "\n",
        "# Concatenation\n",
        "more_numbers = numbers + (60, 70)\n",
        "print(\"Combined numbers:\", more_numbers)\n",
        "\n",
        "# Length of a tuple\n",
        "print(\"Count of numbers:\", len(numbers))\n",
        "\n",
        "# Iterating through a tuple\n",
        "print(\"Fruit names:\")\n",
        "for fruit in fruits:\n",
        "    print(fruit)\n",
        "\n",
        "# Checking membership\n",
        "print(\"Is 30 in numbers?\", 30 in numbers)\n",
        "\n",
        "# Modifying tuple (convert to list and back)\n",
        "num_list = list(numbers)\n",
        "num_list.append(60)\n",
        "updated_numbers = tuple(num_list)\n",
        "print(\"Updated numbers tuple:\", updated_numbers)\n",
        "\n",
        "# Tuple unpacking\n",
        "n1, n2, n3, n4, n5 = numbers\n",
        "print(\"Unpacked values:\", n1, n2, n3, n4, n5)\n"
      ],
      "metadata": {
        "colab": {
          "base_uri": "https://localhost:8080/"
        },
        "id": "zLFZ4PEtA9qq",
        "outputId": "d48239ef-8e65-4055-ae50-1795ce124892"
      },
      "execution_count": null,
      "outputs": [
        {
          "output_type": "stream",
          "name": "stdout",
          "text": [
            "Numbers tuple: (10, 20, 30, 40, 50)\n",
            "Fruits tuple: ('Apple', 'Banana', 'Cherry')\n",
            "First number: 10\n",
            "Last number: 50\n",
            "Some numbers: (20, 30, 40)\n",
            "Combined numbers: (10, 20, 30, 40, 50, 60, 70)\n",
            "Count of numbers: 5\n",
            "Fruit names:\n",
            "Apple\n",
            "Banana\n",
            "Cherry\n",
            "Is 30 in numbers? True\n",
            "Updated numbers tuple: (10, 20, 30, 40, 50, 60)\n",
            "Unpacked values: 10 20 30 40 50\n"
          ]
        }
      ]
    },
    {
      "cell_type": "code",
      "source": [
        "# Creating a dictionary\n",
        "student = {\n",
        "    \"name\": \"John\",\n",
        "    \"age\": 20,\n",
        "    \"course\": \"Python\"\n",
        "}\n",
        "\n",
        "# Printing the dictionary\n",
        "print(\"Student details:\", student)\n",
        "\n",
        "# Accessing values\n",
        "print(\"Name:\", student[\"name\"])\n",
        "print(\"Age:\", student[\"age\"])\n",
        "\n",
        "# Adding a new key-value pair\n",
        "student[\"grade\"] = \"A\"\n",
        "print(\"After adding grade:\", student)\n",
        "\n",
        "# Updating a value\n",
        "student[\"age\"] = 21\n",
        "print(\"After updating age:\", student)\n",
        "\n",
        "# Removing a key-value pair\n",
        "del student[\"course\"]\n",
        "print(\"After removing course:\", student)\n",
        "\n",
        "# Checking if a key exists\n",
        "print(\"Is 'name' in student?\", \"name\" in student)\n",
        "\n",
        "# Getting all keys and values\n",
        "print(\"Keys:\", student.keys())\n",
        "print(\"Values:\", student.values())\n",
        "\n",
        "# Iterating over dictionary\n",
        "print(\"All details:\")\n",
        "for key, value in student.items():\n",
        "    print(key, \":\", value)\n"
      ],
      "metadata": {
        "colab": {
          "base_uri": "https://localhost:8080/"
        },
        "id": "18abA7tDBvMU",
        "outputId": "73b79553-2384-4d78-e239-82b1b8994132"
      },
      "execution_count": null,
      "outputs": [
        {
          "output_type": "stream",
          "name": "stdout",
          "text": [
            "Student details: {'name': 'John', 'age': 20, 'course': 'Python'}\n",
            "Name: John\n",
            "Age: 20\n",
            "After adding grade: {'name': 'John', 'age': 20, 'course': 'Python', 'grade': 'A'}\n",
            "After updating age: {'name': 'John', 'age': 21, 'course': 'Python', 'grade': 'A'}\n",
            "After removing course: {'name': 'John', 'age': 21, 'grade': 'A'}\n",
            "Is 'name' in student? True\n",
            "Keys: dict_keys(['name', 'age', 'grade'])\n",
            "Values: dict_values(['John', 21, 'A'])\n",
            "All details:\n",
            "name : John\n",
            "age : 21\n",
            "grade : A\n"
          ]
        }
      ]
    },
    {
      "cell_type": "code",
      "source": [],
      "metadata": {
        "id": "xnwFfKOb-uD6"
      },
      "execution_count": null,
      "outputs": []
    },
    {
      "cell_type": "code",
      "source": [],
      "metadata": {
        "id": "phzIuhFA-wLp"
      },
      "execution_count": null,
      "outputs": []
    },
    {
      "cell_type": "code",
      "source": [
        "#Linear search\n",
        "# List of numbers\n",
        "numbers = [10, 20, 30, 40, 50]\n",
        "\n",
        "# Number to search\n",
        "key = 30\n",
        "\n",
        "# Search using loop\n",
        "for num in numbers:\n",
        "    if num == key:\n",
        "        print(key, \"found\")\n",
        "        break\n",
        "else:\n",
        "    print(key, \"not found\")\n"
      ],
      "metadata": {
        "colab": {
          "base_uri": "https://localhost:8080/"
        },
        "id": "AFhX2r8VCSSn",
        "outputId": "67622772-46da-46c8-d528-288d552e9284"
      },
      "execution_count": null,
      "outputs": [
        {
          "output_type": "stream",
          "name": "stdout",
          "text": [
            "30 found\n"
          ]
        }
      ]
    },
    {
      "cell_type": "code",
      "source": [
        "# Function to perform bubble sort\n",
        "def bubble_sort(nums):\n",
        "    n = len(nums)\n",
        "    for i in range(n):\n",
        "        for j in range(n - 1 - i):\n",
        "            if nums[j] > nums[j + 1]:\n",
        "                # Swap\n",
        "                nums[j], nums[j + 1] = nums[j + 1], nums[j]\n",
        "    return nums\n",
        "\n",
        "# List to sort\n",
        "numbers = [40, 10, 30, 50, 20]\n",
        "\n",
        "# Call the function\n",
        "sorted_numbers = bubble_sort(numbers)\n",
        "\n",
        "# Print the sorted list\n",
        "print(\"Sorted list:\", sorted_numbers)\n"
      ],
      "metadata": {
        "colab": {
          "base_uri": "https://localhost:8080/"
        },
        "id": "roPGDJN4CUIJ",
        "outputId": "3595c0d0-a189-47e0-b748-65921af71d55"
      },
      "execution_count": null,
      "outputs": [
        {
          "output_type": "stream",
          "name": "stdout",
          "text": [
            "Sorted list: [10, 20, 30, 40, 50]\n"
          ]
        }
      ]
    },
    {
      "cell_type": "code",
      "source": [
        "#Binary search\n",
        "# Sorted list of numbers\n",
        "nums = [10, 20, 30, 40, 50]\n",
        "\n",
        "# Number to search\n",
        "key = 30\n",
        "\n",
        "# Binary Search\n",
        "low = 0\n",
        "high = len(nums) - 1\n",
        "\n",
        "while low <= high:\n",
        "    mid = (low + high) // 2\n",
        "    if nums[mid] == key:\n",
        "        print(key, \"found at position\", mid)\n",
        "        break\n",
        "    elif nums[mid] < key:\n",
        "        low = mid + 1\n",
        "    else:\n",
        "        high = mid - 1\n",
        "else:\n",
        "    print(key, \"not found\")\n"
      ],
      "metadata": {
        "colab": {
          "base_uri": "https://localhost:8080/"
        },
        "id": "zdW774PwCcSJ",
        "outputId": "26bec632-c6fe-4fed-822e-c58138f50562"
      },
      "execution_count": null,
      "outputs": [
        {
          "output_type": "stream",
          "name": "stdout",
          "text": [
            "30 found at position 2\n"
          ]
        }
      ]
    },
    {
      "cell_type": "code",
      "source": [
        "#Binary search using functions\n",
        "# Binary Search function\n",
        "def binary_search(nums, key):\n",
        "    low = 0\n",
        "    high = len(nums) - 1\n",
        "\n",
        "    while low <= high:\n",
        "        mid = (low + high) // 2\n",
        "        if nums[mid] == key:\n",
        "            return mid  # Found, return position\n",
        "        elif nums[mid] < key:\n",
        "            low = mid + 1\n",
        "        else:\n",
        "            high = mid - 1\n",
        "\n",
        "    return -1  # Not found\n",
        "\n",
        "# Sorted list\n",
        "numbers = [10, 20, 30, 40, 50]\n",
        "key = 30\n",
        "\n",
        "# Call function\n",
        "result = binary_search(numbers, key)\n",
        "\n",
        "# Show result\n",
        "if result != -1:\n",
        "    print(f\"{key} found at position {result}\")\n",
        "else:\n",
        "    print(f\"{key} not found\")\n"
      ],
      "metadata": {
        "id": "ywAXHdrGDEuw"
      },
      "execution_count": null,
      "outputs": []
    },
    {
      "cell_type": "code",
      "source": [
        "#stack\n",
        "# Create an empty stack\n",
        "stack = []\n",
        "\n",
        "# Function to push an item\n",
        "def push(item):\n",
        "    stack.append(item)\n",
        "    print(item, \"pushed to stack\")\n",
        "\n",
        "# Function to pop an item\n",
        "def pop_item():\n",
        "    if not stack:\n",
        "        print(\"Stack is empty\")\n",
        "    else:\n",
        "        item = stack.pop()\n",
        "        print(\"Popped item:\", item)\n",
        "\n",
        "# Function to peek top item\n",
        "def peek():\n",
        "    if not stack:\n",
        "        print(\"Stack is empty\")\n",
        "    else:\n",
        "        print(\"Top item:\", stack[-1])\n",
        "\n",
        "# Function to display stack\n",
        "def display():\n",
        "    print(\"Stack:\", stack)\n",
        "\n",
        "# Test the stack operations\n",
        "push(10)\n",
        "push(20)\n",
        "push(30)\n",
        "display()\n",
        "peek()\n",
        "pop_item()\n",
        "display()\n",
        "pop_item()\n",
        "display()\n",
        "pop_item()\n",
        "display()\n",
        "pop_item()\n",
        "display()\n",
        "\n",
        "\n",
        "\n"
      ],
      "metadata": {
        "colab": {
          "base_uri": "https://localhost:8080/"
        },
        "id": "GOfhfJb7C11t",
        "outputId": "ae7d0f43-4197-4643-f85c-e5e9883f24a3"
      },
      "execution_count": null,
      "outputs": [
        {
          "output_type": "stream",
          "name": "stdout",
          "text": [
            "10 pushed to stack\n",
            "20 pushed to stack\n",
            "30 pushed to stack\n",
            "Stack: [10, 20, 30]\n",
            "Top item: 30\n",
            "Popped item: 30\n",
            "Stack: [10, 20]\n",
            "Popped item: 20\n",
            "Stack: [10]\n",
            "Popped item: 10\n",
            "Stack: []\n",
            "Stack is empty\n",
            "Stack: []\n"
          ]
        }
      ]
    },
    {
      "cell_type": "code",
      "source": [
        "# Create an empty queue\n",
        "queue = []\n",
        "\n",
        "# Function to add item to the queue\n",
        "def enqueue(item):\n",
        "    queue.append(item)\n",
        "    print(item, \"added to queue\")\n",
        "\n",
        "# Function to remove item from the queue\n",
        "def dequeue():\n",
        "    if not queue:\n",
        "        print(\"Queue is empty\")\n",
        "    else:\n",
        "        item = queue.pop(0)\n",
        "        print(\"Removed item:\", item)\n",
        "\n",
        "# Function to display the queue\n",
        "def display():\n",
        "    print(\"Queue:\", queue[0:])\n",
        "\n",
        "# Function to see the front item\n",
        "def front():\n",
        "    if not queue:\n",
        "        print(\"Queue is empty\")\n",
        "    else:\n",
        "        print(\"Front item:\", queue[0])\n",
        "\n",
        "# Testing the queue\n",
        "enqueue(10)\n",
        "enqueue(20)\n",
        "enqueue(30)\n",
        "display()\n",
        "front()\n",
        "dequeue()\n",
        "display()\n"
      ],
      "metadata": {
        "colab": {
          "base_uri": "https://localhost:8080/"
        },
        "id": "0eEhWbEBC3jp",
        "outputId": "e2cdfbb1-03b5-4551-d6e3-92ed7b08b9b8"
      },
      "execution_count": null,
      "outputs": [
        {
          "output_type": "stream",
          "name": "stdout",
          "text": [
            "10 added to queue\n",
            "20 added to queue\n",
            "30 added to queue\n",
            "Queue: [10, 20, 30]\n",
            "Front item: 10\n",
            "Removed item: 10\n",
            "Queue: [20, 30]\n"
          ]
        }
      ]
    },
    {
      "cell_type": "code",
      "source": [
        "#Single Diamensional matrix operations\n",
        "import numpy as np\n",
        "# 1D Array Operations\n",
        "print(\"1D ARRAY OPERATIONS\")\n",
        "arr1D = np.array([1, 2, 3, 4, 5])\n",
        "print(\"Original 1D Array:\", arr1D) # prints the elem of array 1D\n",
        "print(\"Shape:\", arr1D.shape)\n",
        "print(\"Size:\", arr1D.size)\n",
        "print(\"Data Type:\", arr1D.dtype)\n",
        "print(\"Sum:\", np.sum(arr1D))\n",
        "print(\"Mean:\", np.mean(arr1D))\n",
        "print(\"Max:\", np.max(arr1D))\n",
        "print(\"Min:\", np.min(arr1D))\n",
        "print(\"Standard Deviation:\", np.std(arr1D))\n",
        "print(\"Reshaped (5,1):\\n\", arr1D.reshape(5,1))\n",
        "print(\"Reversed:\", arr1D[0:4])\n",
        "print()\n"
      ],
      "metadata": {
        "id": "OVdTmEobJsVv",
        "colab": {
          "base_uri": "https://localhost:8080/"
        },
        "outputId": "7fe16e38-6d3c-4f23-98a5-f83c0c436fa7"
      },
      "execution_count": 2,
      "outputs": [
        {
          "output_type": "stream",
          "name": "stdout",
          "text": [
            "1D ARRAY OPERATIONS\n",
            "Original 1D Array: [1 2 3 4 5]\n",
            "Shape: (5,)\n",
            "Size: 5\n",
            "Data Type: int64\n",
            "Sum: 15\n",
            "Mean: 3.0\n",
            "Max: 5\n",
            "Min: 1\n",
            "Standard Deviation: 1.4142135623730951\n",
            "Reshaped (5,1):\n",
            " [[1]\n",
            " [2]\n",
            " [3]\n",
            " [4]\n",
            " [5]]\n",
            "Reversed: [1 2 3 4]\n",
            "\n"
          ]
        }
      ]
    },
    {
      "cell_type": "code",
      "source": [
        "#Two diamensional array operationss\n",
        "import numpy as np\n",
        "\n",
        "print(\"✅ 1D ARRAY OPERATIONS (Matrix form)\\n\")\n",
        "\n",
        "arrA = np.array([[1, 2, 3], [1, 2, 3], [1, 2, 3]])\n",
        "arrB = np.array([[4, 5, 6], [4, 5, 6], [4, 5, 6]])\n",
        "\n",
        "print(\"Matrix A:\\n\", arrA)\n",
        "print(\"Matrix B:\\n\", arrB)\n",
        "\n",
        "# 1. Addition\n",
        "print(\"\\n1. A + B:\\n\", arrA + arrB)\n",
        "\n",
        "# 2. Subtraction\n",
        "print(\"\\n2. A - B:\\n\", arrA - arrB)\n",
        "\n",
        "# 3. Element-wise Multiplication\n",
        "print(\"\\n3. A * B:\\n\", arrA * arrB)\n",
        "\n",
        "# 4. Matrix Multiplication (Dot product)\n",
        "print(\"\\n4. A dot B:\\n\", np.dot(arrA, arrB))\n",
        "\n",
        "# 5. Transpose of A\n",
        "print(\"\\n5. Transpose of A:\\n\", arrA.T)\n",
        "\n",
        "# 6. Transpose of B\n",
        "print(\"\\n6. Transpose of B:\\n\", arrB.T)\n",
        "\n",
        "# 7. Sum of all elements in A\n",
        "print(\"\\n7. Sum of A:\", np.sum(arrA))\n",
        "\n",
        "# 8. Sum of elements row-wise in B\n",
        "print(\"\\n8. Row-wise sum of B:\\n\", np.sum(arrB, axis=1))\n",
        "\n",
        "# 9. Sum of elements column-wise in A\n",
        "print(\"\\n9. Column-wise sum of A:\\n\", np.sum(arrA, axis=0))\n",
        "\n",
        "# 10. Max of A\n",
        "print(\"\\n10. Max of A:\", np.max(arrA))\n",
        "\n",
        "# 11. Min of B\n",
        "print(\"\\n11. Min of B:\", np.min(arrB))\n",
        "\n",
        "# 12. Mean of A\n",
        "print(\"\\n12. Mean of A:\", np.mean(arrA))\n",
        "\n",
        "# 13. Standard Deviation of B\n",
        "print(\"\\n13. Standard Deviation of B:\", np.std(arrB))\n",
        "\n",
        "# 14. Square of A\n",
        "print(\"\\n14. A squared:\\n\", np.square(arrA))\n",
        "\n",
        "# 15. Square root of B\n",
        "print(\"\\n15. Square root of B:\\n\", np.sqrt(arrB))\n",
        "\n",
        "# 16. Diagonal of A\n",
        "print(\"\\n16. Diagonal of A:\", np.diag(arrA))\n",
        "\n",
        "# 17. Identity matrix (3x3)\n",
        "print(\"\\n17. Identity Matrix:\\n\", np.identity(3))\n",
        "\n",
        "# 18. A raised to power 3 (element-wise)\n",
        "print(\"\\n18. A ** 3:\\n\", np.power(arrA, 3))\n",
        "\n",
        "# 19. Cumulative sum of B\n",
        "print(\"\\n19. Cumulative sum of B:\\n\", np.cumsum(arrB))\n",
        "\n",
        "# 20. Flatten matrix A\n",
        "print(\"\\n20. Flattened A:\\n\", arrA.flatten())\n",
        "\n",
        "# 21. Reshape A (3x3 to 1x9)\n",
        "print(\"\\n21. Reshaped A to (1,9):\\n\", arrA.reshape(1, 9))\n",
        "\n",
        "# 22. Check shape of A\n",
        "print(\"\\n22. Shape of A:\", arrA.shape)\n",
        "\n",
        "# 23. Check size of B\n",
        "print(\"\\n23. Size of B:\", arrB.size)\n",
        "\n",
        "# 24. Check data type\n",
        "print(\"\\n24. Data type of A:\", arrA.dtype)\n",
        "\n",
        "# 25. Element-wise greater than comparison\n",
        "print(\"\\n25. A > B:\\n\", arrA > arrB)\n"
      ],
      "metadata": {
        "colab": {
          "base_uri": "https://localhost:8080/"
        },
        "id": "gtENNDuW7vgo",
        "outputId": "0f073e98-314f-4c51-ea29-f8285fd7b403"
      },
      "execution_count": 3,
      "outputs": [
        {
          "output_type": "stream",
          "name": "stdout",
          "text": [
            "✅ 1D ARRAY OPERATIONS (Matrix form)\n",
            "\n",
            "Matrix A:\n",
            " [[1 2 3]\n",
            " [1 2 3]\n",
            " [1 2 3]]\n",
            "Matrix B:\n",
            " [[4 5 6]\n",
            " [4 5 6]\n",
            " [4 5 6]]\n",
            "\n",
            "1. A + B:\n",
            " [[5 7 9]\n",
            " [5 7 9]\n",
            " [5 7 9]]\n",
            "\n",
            "2. A - B:\n",
            " [[-3 -3 -3]\n",
            " [-3 -3 -3]\n",
            " [-3 -3 -3]]\n",
            "\n",
            "3. A * B:\n",
            " [[ 4 10 18]\n",
            " [ 4 10 18]\n",
            " [ 4 10 18]]\n",
            "\n",
            "4. A dot B:\n",
            " [[24 30 36]\n",
            " [24 30 36]\n",
            " [24 30 36]]\n",
            "\n",
            "5. Transpose of A:\n",
            " [[1 1 1]\n",
            " [2 2 2]\n",
            " [3 3 3]]\n",
            "\n",
            "6. Transpose of B:\n",
            " [[4 4 4]\n",
            " [5 5 5]\n",
            " [6 6 6]]\n",
            "\n",
            "7. Sum of A: 18\n",
            "\n",
            "8. Row-wise sum of B:\n",
            " [15 15 15]\n",
            "\n",
            "9. Column-wise sum of A:\n",
            " [3 6 9]\n",
            "\n",
            "10. Max of A: 3\n",
            "\n",
            "11. Min of B: 4\n",
            "\n",
            "12. Mean of A: 2.0\n",
            "\n",
            "13. Standard Deviation of B: 0.816496580927726\n",
            "\n",
            "14. A squared:\n",
            " [[1 4 9]\n",
            " [1 4 9]\n",
            " [1 4 9]]\n",
            "\n",
            "15. Square root of B:\n",
            " [[2.         2.23606798 2.44948974]\n",
            " [2.         2.23606798 2.44948974]\n",
            " [2.         2.23606798 2.44948974]]\n",
            "\n",
            "16. Diagonal of A: [1 2 3]\n",
            "\n",
            "17. Identity Matrix:\n",
            " [[1. 0. 0.]\n",
            " [0. 1. 0.]\n",
            " [0. 0. 1.]]\n",
            "\n",
            "18. A ** 3:\n",
            " [[ 1  8 27]\n",
            " [ 1  8 27]\n",
            " [ 1  8 27]]\n",
            "\n",
            "19. Cumulative sum of B:\n",
            " [ 4  9 15 19 24 30 34 39 45]\n",
            "\n",
            "20. Flattened A:\n",
            " [1 2 3 1 2 3 1 2 3]\n",
            "\n",
            "21. Reshaped A to (1,9):\n",
            " [[1 2 3 1 2 3 1 2 3]]\n",
            "\n",
            "22. Shape of A: (3, 3)\n",
            "\n",
            "23. Size of B: 9\n",
            "\n",
            "24. Data type of A: int64\n",
            "\n",
            "25. A > B:\n",
            " [[False False False]\n",
            " [False False False]\n",
            " [False False False]]\n"
          ]
        }
      ]
    },
    {
      "cell_type": "code",
      "source": [
        "#Creation of Data Frames\n",
        "import pandas as pd  # Step 1: Import pandas\n",
        "\n",
        "# Step 2: Create a simple dictionary (like a table)\n",
        "data = {\n",
        "    \"Name\": [\"Alice\", \"Bob\", \"Charlie\"],\n",
        "    \"Age\": [25, 30, 22],\n",
        "    \"City\": [\"New York\", \"London\", \"Paris\"]\n",
        "}\n",
        "\n",
        "# Step 3: Convert dictionary into a DataFrame\n",
        "df = pd.DataFrame(data)\n",
        "\n",
        "# Step 4: Display the DataFrame\n",
        "print(\"📋 Original DataFrame:\")\n",
        "print(df)\n",
        "\n",
        "# Step 5: Access a column\n",
        "print(\"\\n🔍 Access 'Name' column:\")\n",
        "print(df[\"Name\"])\n",
        "\n",
        "# Step 6: Add a new column\n",
        "df[\"Score\"] = [85, 90, 88]\n",
        "print(\"\\n➕ DataFrame after adding 'Score':\")\n",
        "print(df)\n",
        "\n",
        "# Step 7: Filter rows (Age > 23)\n",
        "print(\"\\n🔎 Filter rows where Age > 23:\")\n",
        "print(df[df[\"Age\"] > 23])\n",
        "\n",
        "# Step 8: Show basic statistics\n",
        "print(\"\\n📊 Statistics of numerical columns:\")\n",
        "print(df.describe())\n",
        "print(\"head\\n\",df.head())\n",
        "print(\"Tail\\n\",df.tail())\n",
        "\n"
      ],
      "metadata": {
        "colab": {
          "base_uri": "https://localhost:8080/"
        },
        "id": "Dhwua8pk-yxq",
        "outputId": "794c72ec-9c6b-4e86-f904-fd189d1cceb4"
      },
      "execution_count": 6,
      "outputs": [
        {
          "output_type": "stream",
          "name": "stdout",
          "text": [
            "📋 Original DataFrame:\n",
            "      Name  Age      City\n",
            "0    Alice   25  New York\n",
            "1      Bob   30    London\n",
            "2  Charlie   22     Paris\n",
            "\n",
            "🔍 Access 'Name' column:\n",
            "0      Alice\n",
            "1        Bob\n",
            "2    Charlie\n",
            "Name: Name, dtype: object\n",
            "\n",
            "➕ DataFrame after adding 'Score':\n",
            "      Name  Age      City  Score\n",
            "0    Alice   25  New York     85\n",
            "1      Bob   30    London     90\n",
            "2  Charlie   22     Paris     88\n",
            "\n",
            "🔎 Filter rows where Age > 23:\n",
            "    Name  Age      City  Score\n",
            "0  Alice   25  New York     85\n",
            "1    Bob   30    London     90\n",
            "\n",
            "📊 Statistics of numerical columns:\n",
            "             Age      Score\n",
            "count   3.000000   3.000000\n",
            "mean   25.666667  87.666667\n",
            "std     4.041452   2.516611\n",
            "min    22.000000  85.000000\n",
            "25%    23.500000  86.500000\n",
            "50%    25.000000  88.000000\n",
            "75%    27.500000  89.000000\n",
            "max    30.000000  90.000000\n",
            "head\n",
            "       Name  Age      City  Score\n",
            "0    Alice   25  New York     85\n",
            "1      Bob   30    London     90\n",
            "2  Charlie   22     Paris     88\n",
            "Tail\n",
            "       Name  Age      City  Score\n",
            "0    Alice   25  New York     85\n",
            "1      Bob   30    London     90\n",
            "2  Charlie   22     Paris     88\n"
          ]
        }
      ]
    },
    {
      "cell_type": "code",
      "source": [
        "#Data pre processing operations\n",
        "import pandas as pd\n",
        "\n",
        "# Step 1: Create messy data\n",
        "data = {\n",
        "    \"Name\": [\"Alice\", \"Bob\", None, \"David\", \"Eve\"],\n",
        "    \"Age\": [25, 30, 22, None, 29],\n",
        "    \"City\": [\"New York\", \"London\", \"Paris\", \"London\", None],\n",
        "    \"Score\": [85, 90, None, 88, 95]\n",
        "}\n",
        "\n",
        "# Step 2: Create the DataFrame\n",
        "df = pd.DataFrame(data)\n",
        "print(\"📋 Original DataFrame:\\n\", df)\n",
        "\n",
        "# Step 3: Check for missing values\n",
        "print(\"\\n🔍 Missing Values Check:\\n\", df.isnull())\n",
        "\n",
        "# Step 4: Drop rows with missing values (optional preview)\n",
        "df_cleaned = df.dropna()\n",
        "print(\"\\n🧹 DataFrame after dropping rows with missing values:\\n\", df_cleaned)\n",
        "\n",
        "# Step 5: Fill missing values (safe syntax, no inplace=True)\n",
        "df[\"Age\"] = df[\"Age\"].fillna(df[\"Age\"].mean())\n",
        "df[\"Score\"] = df[\"Score\"].fillna(df[\"Score\"].mean())\n",
        "df[\"Name\"] = df[\"Name\"].fillna(\"Unknown\")\n",
        "df[\"City\"] = df[\"City\"].fillna(\"Unknown\")\n",
        "\n",
        "print(\"\\n🛠️ DataFrame after filling missing values:\\n\", df)\n",
        "\n",
        "# Step 6: Remove duplicate rows\n",
        "df = df.drop_duplicates()\n",
        "print(\"\\n❎ DataFrame after removing duplicates:\\n\", df)\n",
        "\n",
        "# Step 7: Convert data types\n",
        "df[\"Age\"] = df[\"Age\"].astype(int)\n",
        "print(\"\\n🔄 DataFrame after converting 'Age' to integer:\\n\", df)\n"
      ],
      "metadata": {
        "colab": {
          "base_uri": "https://localhost:8080/"
        },
        "id": "M0_i7sD7A0FF",
        "outputId": "546676a6-a2c3-44f7-bf3e-2aae41974248"
      },
      "execution_count": 7,
      "outputs": [
        {
          "output_type": "stream",
          "name": "stdout",
          "text": [
            "📋 Original DataFrame:\n",
            "     Name   Age      City  Score\n",
            "0  Alice  25.0  New York   85.0\n",
            "1    Bob  30.0    London   90.0\n",
            "2   None  22.0     Paris    NaN\n",
            "3  David   NaN    London   88.0\n",
            "4    Eve  29.0      None   95.0\n",
            "\n",
            "🔍 Missing Values Check:\n",
            "     Name    Age   City  Score\n",
            "0  False  False  False  False\n",
            "1  False  False  False  False\n",
            "2   True  False  False   True\n",
            "3  False   True  False  False\n",
            "4  False  False   True  False\n",
            "\n",
            "🧹 DataFrame after dropping rows with missing values:\n",
            "     Name   Age      City  Score\n",
            "0  Alice  25.0  New York   85.0\n",
            "1    Bob  30.0    London   90.0\n",
            "\n",
            "🛠️ DataFrame after filling missing values:\n",
            "       Name   Age      City  Score\n",
            "0    Alice  25.0  New York   85.0\n",
            "1      Bob  30.0    London   90.0\n",
            "2  Unknown  22.0     Paris   89.5\n",
            "3    David  26.5    London   88.0\n",
            "4      Eve  29.0   Unknown   95.0\n",
            "\n",
            "❎ DataFrame after removing duplicates:\n",
            "       Name   Age      City  Score\n",
            "0    Alice  25.0  New York   85.0\n",
            "1      Bob  30.0    London   90.0\n",
            "2  Unknown  22.0     Paris   89.5\n",
            "3    David  26.5    London   88.0\n",
            "4      Eve  29.0   Unknown   95.0\n",
            "\n",
            "🔄 DataFrame after converting 'Age' to integer:\n",
            "       Name  Age      City  Score\n",
            "0    Alice   25  New York   85.0\n",
            "1      Bob   30    London   90.0\n",
            "2  Unknown   22     Paris   89.5\n",
            "3    David   26    London   88.0\n",
            "4      Eve   29   Unknown   95.0\n"
          ]
        }
      ]
    },
    {
      "cell_type": "code",
      "source": [],
      "metadata": {
        "id": "5zbU_sypBb5Z"
      },
      "execution_count": null,
      "outputs": []
    }
  ]
}